{
 "cells": [
  {
   "cell_type": "code",
   "execution_count": 1,
   "id": "d7129c14",
   "metadata": {},
   "outputs": [
    {
     "name": "stdout",
     "output_type": "stream",
     "text": [
      "[[1. 1. 1. 1. 1.]\n",
      " [1. 1. 1. 1. 1.]]\n"
     ]
    }
   ],
   "source": [
    "import numpy as np\n",
    "a=np.ones((2,5), dtype=np.float32)\n",
    "print(a)"
   ]
  },
  {
   "cell_type": "code",
   "execution_count": 2,
   "id": "4d8e77bd",
   "metadata": {},
   "outputs": [
    {
     "name": "stdout",
     "output_type": "stream",
     "text": [
      "[[0. 0. 0.]\n",
      " [0. 0. 0.]\n",
      " [0. 0. 0.]]\n"
     ]
    }
   ],
   "source": [
    "b=np.zeros((3,3), dtype=np.float32)\n",
    "print(b)"
   ]
  },
  {
   "cell_type": "code",
   "execution_count": 4,
   "id": "170c80ea",
   "metadata": {},
   "outputs": [
    {
     "name": "stdout",
     "output_type": "stream",
     "text": [
      "2 (2, 3) float32\n",
      "[[1. 2. 3.]\n",
      " [4. 5. 6.]]\n"
     ]
    }
   ],
   "source": [
    "c=np.array([[1,2,3],[4,5,6]], dtype=np.float32)\n",
    "print(c.ndim, c.shape, c.dtype)\n",
    "print(c)"
   ]
  },
  {
   "cell_type": "code",
   "execution_count": 8,
   "id": "65877bb5",
   "metadata": {},
   "outputs": [
    {
     "name": "stdout",
     "output_type": "stream",
     "text": [
      "[5 6 7 8 9]\n"
     ]
    }
   ],
   "source": [
    "d=np.arange(5,10)\n",
    "print(d)"
   ]
  },
  {
   "cell_type": "code",
   "execution_count": 10,
   "id": "58390c95",
   "metadata": {},
   "outputs": [
    {
     "name": "stdout",
     "output_type": "stream",
     "text": [
      "[1 3 5 7 9]\n"
     ]
    }
   ],
   "source": [
    "e=np.arange(1,10,2)\n",
    "print(e)"
   ]
  },
  {
   "cell_type": "code",
   "execution_count": 16,
   "id": "ff4823d4",
   "metadata": {},
   "outputs": [
    {
     "name": "stdout",
     "output_type": "stream",
     "text": [
      "[2.  2.2 2.4 2.6 2.8]\n",
      "[2.         2.02040816 2.04081633 2.06122449 2.08163265 2.10204082\n",
      " 2.12244898 2.14285714 2.16326531 2.18367347 2.20408163 2.2244898\n",
      " 2.24489796 2.26530612 2.28571429 2.30612245 2.32653061 2.34693878\n",
      " 2.36734694 2.3877551  2.40816327 2.42857143 2.44897959 2.46938776\n",
      " 2.48979592 2.51020408 2.53061224 2.55102041 2.57142857 2.59183673\n",
      " 2.6122449  2.63265306 2.65306122 2.67346939 2.69387755 2.71428571\n",
      " 2.73469388 2.75510204 2.7755102  2.79591837 2.81632653 2.83673469\n",
      " 2.85714286 2.87755102 2.89795918 2.91836735 2.93877551 2.95918367\n",
      " 2.97959184 3.        ]\n"
     ]
    }
   ],
   "source": [
    "f=np.linspace(2.0, 3.0, num=5, endpoint=False)\n",
    "print(f)\n",
    "g=np.linspace(2.0, 3.0)\n",
    "print(g)"
   ]
  },
  {
   "cell_type": "code",
   "execution_count": 18,
   "id": "05cd6edf",
   "metadata": {},
   "outputs": [
    {
     "name": "stdout",
     "output_type": "stream",
     "text": [
      "[[1. 1. 1.]]\n",
      "[[0. 0. 0.]\n",
      " [0. 0. 0.]\n",
      " [0. 0. 0.]]\n",
      "[[1. 1. 1.]\n",
      " [0. 0. 0.]\n",
      " [0. 0. 0.]\n",
      " [0. 0. 0.]]\n"
     ]
    }
   ],
   "source": [
    "x=np.ones((1,3))\n",
    "print(x)\n",
    "y=np.zeros((3,3))\n",
    "print(y)\n",
    "xy=np.concatenate([x,y], axis=0)\n",
    "print(xy)"
   ]
  },
  {
   "cell_type": "code",
   "execution_count": 20,
   "id": "145fb6c1",
   "metadata": {},
   "outputs": [
    {
     "name": "stdout",
     "output_type": "stream",
     "text": [
      "[[1. 1. 1.]\n",
      " [1. 1. 1.]\n",
      " [1. 1. 1.]]\n",
      "[[0. 0. 0.]\n",
      " [0. 0. 0.]\n",
      " [0. 0. 0.]]\n",
      "[[1. 1.]\n",
      " [1. 1.]]\n"
     ]
    }
   ],
   "source": [
    "k=np.ones((3,3))\n",
    "print(k)\n",
    "l=np.zeros_like(k)\n",
    "print(l)\n",
    "m=np.zeros((2,2))\n",
    "n=np.ones_like(m)\n",
    "print(n)\n",
    "\n"
   ]
  },
  {
   "cell_type": "code",
   "execution_count": 22,
   "id": "dbee56ae",
   "metadata": {},
   "outputs": [
    {
     "name": "stdout",
     "output_type": "stream",
     "text": [
      "[[0.40846349 0.53542725 0.77719739 0.08942036 0.88030873]\n",
      " [0.68354    0.27276849 0.16956044 0.5837809  0.59632613]\n",
      " [0.40773111 0.23812276 0.35734137 0.25496904 0.96997333]]\n",
      "[[8 8]\n",
      " [7 6]]\n"
     ]
    }
   ],
   "source": [
    "o=np.random.rand(3,5)\n",
    "print(o)\n",
    "p=np.random.randint(5, 10, size=(2,2))\n",
    "print(p)"
   ]
  },
  {
   "cell_type": "code",
   "execution_count": 24,
   "id": "e0ff563f",
   "metadata": {},
   "outputs": [
    {
     "name": "stdout",
     "output_type": "stream",
     "text": [
      "[[1 2 3 4]\n",
      " [5 6 7 8]]\n"
     ]
    }
   ],
   "source": [
    "q=np.array([[1, 2, 3, 4], [5, 6, 7, 8]])\n",
    "print(q)"
   ]
  },
  {
   "cell_type": "code",
   "execution_count": 26,
   "id": "a42d37dc",
   "metadata": {},
   "outputs": [
    {
     "data": {
      "text/plain": [
       "4"
      ]
     },
     "execution_count": 26,
     "metadata": {},
     "output_type": "execute_result"
    }
   ],
   "source": [
    "q[0][3]"
   ]
  },
  {
   "cell_type": "code",
   "execution_count": 28,
   "id": "af4b23b6",
   "metadata": {},
   "outputs": [
    {
     "data": {
      "text/plain": [
       "array([[1, 2, 3]])"
      ]
     },
     "execution_count": 28,
     "metadata": {},
     "output_type": "execute_result"
    }
   ],
   "source": [
    "q[0:1,0:3]"
   ]
  },
  {
   "cell_type": "code",
   "execution_count": 29,
   "id": "05ec36d7",
   "metadata": {},
   "outputs": [
    {
     "data": {
      "text/plain": [
       "array([2, 5, 8])"
      ]
     },
     "execution_count": 29,
     "metadata": {},
     "output_type": "execute_result"
    }
   ],
   "source": [
    "r=np.array([1,2,3,4,5,6,7,8,9])\n",
    "s=np.array([1,4,7])\n",
    "r[s]"
   ]
  },
  {
   "cell_type": "code",
   "execution_count": 30,
   "id": "77de09ff",
   "metadata": {},
   "outputs": [
    {
     "name": "stdout",
     "output_type": "stream",
     "text": [
      "[[ 1 -8 -2]\n",
      " [ 1  9 -5]]\n"
     ]
    }
   ],
   "source": [
    "t=np.array([[1, -8, -2 ], [1, 9, -5]])\n",
    "print(t)"
   ]
  },
  {
   "cell_type": "code",
   "execution_count": 32,
   "id": "c8205264",
   "metadata": {},
   "outputs": [
    {
     "data": {
      "text/plain": [
       "array([1, 1, 9])"
      ]
     },
     "execution_count": 32,
     "metadata": {},
     "output_type": "execute_result"
    }
   ],
   "source": [
    "t[t<0]\n",
    "t[t>0]"
   ]
  },
  {
   "cell_type": "code",
   "execution_count": null,
   "id": "2c463307",
   "metadata": {},
   "outputs": [],
   "source": []
  }
 ],
 "metadata": {
  "kernelspec": {
   "display_name": "Python 3 (ipykernel)",
   "language": "python",
   "name": "python3"
  },
  "language_info": {
   "codemirror_mode": {
    "name": "ipython",
    "version": 3
   },
   "file_extension": ".py",
   "mimetype": "text/x-python",
   "name": "python",
   "nbconvert_exporter": "python",
   "pygments_lexer": "ipython3",
   "version": "3.9.7"
  }
 },
 "nbformat": 4,
 "nbformat_minor": 5
}
