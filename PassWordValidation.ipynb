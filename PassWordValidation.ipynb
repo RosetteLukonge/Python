{
 "cells": [
  {
   "cell_type": "code",
   "execution_count": 1,
   "id": "661de861",
   "metadata": {},
   "outputs": [
    {
     "name": "stdout",
     "output_type": "stream",
     "text": [
      "************************************************************\n",
      "*****************  Guessing Number *************************\n",
      "************************************************************\n",
      "You have only 3 chances to make the right guess, let's go!!!\n",
      "                                                            \n",
      "                                                            \n",
      "Guess ==> 1\n",
      "Guess ==> 3\n",
      "Guess ==> 2\n",
      "You failed, the secret number is 10\n",
      "\n",
      "elapse time ==> 0:00:10.168018\n"
     ]
    }
   ],
   "source": [
    "from timeit import default_timer as timer\n",
    "from datetime import timedelta\n",
    "secret_number=10\n",
    "guess_count=0\n",
    "guess_limit=3\n",
    "print('************************************************************')\n",
    "print('*****************  Guessing Number *************************')\n",
    "print('************************************************************')\n",
    "print(\"You have only 3 chances to make the right guess, let's go!!!\")\n",
    "print('                                                            ')\n",
    "print('                                                            ')\n",
    "start = timer()\n",
    "while guess_count < guess_limit:\n",
    "    guess=int(input('Guess ==> '))\n",
    "    guess_count+=1\n",
    "    if guess==secret_number:\n",
    "        print(f'You won, the secret number is {secret_number}')\n",
    "        break\n",
    "else:\n",
    "    print(f'You failed, the secret number is {secret_number}')\n",
    "end = timer()\n",
    "print('')\n",
    "print(f'elapse time ==> {timedelta(seconds=end-start)}')"
   ]
  },
  {
   "cell_type": "code",
   "execution_count": 2,
   "id": "71cdfa40",
   "metadata": {},
   "outputs": [
    {
     "name": "stdout",
     "output_type": "stream",
     "text": [
      "Enter the pass word : >rrTT9012@\n",
      "Valid Password\n"
     ]
    }
   ],
   "source": [
    "\n",
    "import re\n",
    "pass_word= input('Enter the pass word : >')\n",
    "check=True\n",
    "while check:  \n",
    "    if (len(pass_word)<6 or len(pass_word)>12): \n",
    "        print('Pass_word length range (6,12)')\n",
    "        break\n",
    "    elif not re.search(\"[a-z]\",pass_word):\n",
    "        print('The password must contain at least one lower case')\n",
    "        break\n",
    "    elif not re.search(\"[0-9]\",pass_word):\n",
    "        print('The password must contain at least one number')\n",
    "        break\n",
    "    elif not re.search(\"[A-Z]\",pass_word):\n",
    "        print('The password must contain at least one upper case')\n",
    "        break\n",
    "    elif not re.search(\"[$#@]\",pass_word):\n",
    "        print(f'The password must contain at least one special like [$#@]')\n",
    "        break\n",
    "    elif re.search(\"\\s\",pass_word):\n",
    "        break\n",
    "    else:\n",
    "        print('Valid Password')\n",
    "        check=False\n",
    "        break\n",
    "\n",
    "if check:\n",
    "    print('Invalid password')"
   ]
  },
  {
   "cell_type": "code",
   "execution_count": null,
   "id": "2669b726",
   "metadata": {},
   "outputs": [],
   "source": []
  }
 ],
 "metadata": {
  "kernelspec": {
   "display_name": "Python 3 (ipykernel)",
   "language": "python",
   "name": "python3"
  },
  "language_info": {
   "codemirror_mode": {
    "name": "ipython",
    "version": 3
   },
   "file_extension": ".py",
   "mimetype": "text/x-python",
   "name": "python",
   "nbconvert_exporter": "python",
   "pygments_lexer": "ipython3",
   "version": "3.9.7"
  }
 },
 "nbformat": 4,
 "nbformat_minor": 5
}
