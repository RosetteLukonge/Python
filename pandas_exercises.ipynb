{
 "cells": [
  {
   "cell_type": "code",
   "execution_count": 36,
   "id": "6c915491",
   "metadata": {},
   "outputs": [
    {
     "data": {
      "text/html": [
       "<div>\n",
       "<style scoped>\n",
       "    .dataframe tbody tr th:only-of-type {\n",
       "        vertical-align: middle;\n",
       "    }\n",
       "\n",
       "    .dataframe tbody tr th {\n",
       "        vertical-align: top;\n",
       "    }\n",
       "\n",
       "    .dataframe thead th {\n",
       "        text-align: right;\n",
       "    }\n",
       "</style>\n",
       "<table border=\"1\" class=\"dataframe\">\n",
       "  <thead>\n",
       "    <tr style=\"text-align: right;\">\n",
       "      <th></th>\n",
       "      <th>Apples</th>\n",
       "      <th>Bananas</th>\n",
       "    </tr>\n",
       "  </thead>\n",
       "  <tbody>\n",
       "    <tr>\n",
       "      <th>2017 sales</th>\n",
       "      <td>35</td>\n",
       "      <td>21</td>\n",
       "    </tr>\n",
       "    <tr>\n",
       "      <th>2018 sales</th>\n",
       "      <td>41</td>\n",
       "      <td>34</td>\n",
       "    </tr>\n",
       "  </tbody>\n",
       "</table>\n",
       "</div>"
      ],
      "text/plain": [
       "            Apples  Bananas\n",
       "2017 sales      35       21\n",
       "2018 sales      41       34"
      ]
     },
     "execution_count": 36,
     "metadata": {},
     "output_type": "execute_result"
    }
   ],
   "source": [
    "import pandas as pd\n",
    "data={'Apples': [35, 41], 'Bananas': [21, 34]}\n",
    "my_data_frame=pd.DataFrame(data=data, index=['2017 sales','2018 sales'])\n",
    "my_data_frame"
   ]
  },
  {
   "cell_type": "code",
   "execution_count": 41,
   "id": "7b59fdfd",
   "metadata": {},
   "outputs": [
    {
     "name": "stdout",
     "output_type": "stream",
     "text": [
      "S1 + S2\n",
      "0     8\n",
      "1    10\n",
      "2    12\n",
      "3    14\n",
      "4    16\n",
      "5    18\n",
      "dtype: int64\n",
      "S1 - S2\n",
      "0   -6\n",
      "1   -6\n",
      "2   -6\n",
      "3   -6\n",
      "4   -6\n",
      "5   -6\n",
      "dtype: int64\n",
      "S1 * S2\n",
      "0     7\n",
      "1    16\n",
      "2    27\n",
      "3    40\n",
      "4    55\n",
      "5    72\n",
      "dtype: int64\n",
      "S1 / S2\n",
      "0    0.142857\n",
      "1    0.250000\n",
      "2    0.333333\n",
      "3    0.400000\n",
      "4    0.454545\n",
      "5    0.500000\n",
      "dtype: float64\n"
     ]
    }
   ],
   "source": [
    "S1=pd.Series([1,2,3,4,5,6])\n",
    "S2=pd.Series([7,8,9,10,11,12])\n",
    "#addition\n",
    "print('S1 + S2')\n",
    "print(pd.Series.add(S1, S2))\n",
    "#Substraction\n",
    "print('S1 - S2')\n",
    "print(pd.Series.sub(S1, S2))\n",
    "#multiplication\n",
    "print('S1 * S2')\n",
    "print(pd.Series.mul(S1, S2))\n",
    "#division\n",
    "print('S1 / S2')\n",
    "print(pd.Series.div(S1, S2))"
   ]
  },
  {
   "cell_type": "code",
   "execution_count": null,
   "id": "ef6a4d04",
   "metadata": {},
   "outputs": [],
   "source": []
  }
 ],
 "metadata": {
  "kernelspec": {
   "display_name": "Python 3 (ipykernel)",
   "language": "python",
   "name": "python3"
  },
  "language_info": {
   "codemirror_mode": {
    "name": "ipython",
    "version": 3
   },
   "file_extension": ".py",
   "mimetype": "text/x-python",
   "name": "python",
   "nbconvert_exporter": "python",
   "pygments_lexer": "ipython3",
   "version": "3.9.7"
  }
 },
 "nbformat": 4,
 "nbformat_minor": 5
}
