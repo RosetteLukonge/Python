{
 "cells": [
  {
   "cell_type": "code",
   "execution_count": 1,
   "id": "4508937b",
   "metadata": {},
   "outputs": [
    {
     "name": "stdout",
     "output_type": "stream",
     "text": [
      "Sum : 32\n"
     ]
    }
   ],
   "source": [
    "l = [ 1, 10, 20, 3, -2, 0]\n",
    "sum=0\n",
    "for item in l:\n",
    "    sum+=item\n",
    "print(f'Sum : {sum}')"
   ]
  },
  {
   "cell_type": "code",
   "execution_count": 7,
   "id": "76d9f3d1",
   "metadata": {},
   "outputs": [
    {
     "name": "stdout",
     "output_type": "stream",
     "text": [
      "Number 4 is in the given range\n"
     ]
    }
   ],
   "source": [
    "def range_test(number):\n",
    "    if number in range(3,9):\n",
    "        print(f'Number {number} is in the given range')\n",
    "    else :\n",
    "        print(f'The number {number} is outside the given range')\n",
    "\n",
    "#input_number=input('Give a number: >')\n",
    "range_test(4)"
   ]
  },
  {
   "cell_type": "code",
   "execution_count": null,
   "id": "3913ed7f",
   "metadata": {},
   "outputs": [],
   "source": []
  }
 ],
 "metadata": {
  "kernelspec": {
   "display_name": "Python 3 (ipykernel)",
   "language": "python",
   "name": "python3"
  },
  "language_info": {
   "codemirror_mode": {
    "name": "ipython",
    "version": 3
   },
   "file_extension": ".py",
   "mimetype": "text/x-python",
   "name": "python",
   "nbconvert_exporter": "python",
   "pygments_lexer": "ipython3",
   "version": "3.9.7"
  }
 },
 "nbformat": 4,
 "nbformat_minor": 5
}
